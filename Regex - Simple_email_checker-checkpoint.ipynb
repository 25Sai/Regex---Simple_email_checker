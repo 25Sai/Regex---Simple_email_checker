{
 "cells": [
  {
   "cell_type": "code",
   "execution_count": null,
   "id": "d4dcf76d",
   "metadata": {},
   "outputs": [],
   "source": [
    "import re\n",
    "pattern= \"[a-zA-Z0-9]+@[a-zA-Z]+\\.(com|edu|ai|net|in)\"\n",
    "user_input= input()\n",
    "if(re.search(pattern, user_input)):\n",
    "    print(\"valid email\")\n",
    "else:\n",
    "    print(\"invalid email\")"
   ]
  }
 ],
 "metadata": {
  "kernelspec": {
   "display_name": "Python 3 (ipykernel)",
   "language": "python",
   "name": "python3"
  },
  "language_info": {
   "codemirror_mode": {
    "name": "ipython",
    "version": 3
   },
   "file_extension": ".py",
   "mimetype": "text/x-python",
   "name": "python",
   "nbconvert_exporter": "python",
   "pygments_lexer": "ipython3",
   "version": "3.8.5"
  }
 },
 "nbformat": 4,
 "nbformat_minor": 5
}
